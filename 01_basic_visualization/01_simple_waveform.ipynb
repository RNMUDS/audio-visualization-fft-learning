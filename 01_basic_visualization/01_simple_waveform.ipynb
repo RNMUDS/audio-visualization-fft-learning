{
 "cells": [
  {
   "cell_type": "markdown",
   "metadata": {},
   "source": "# 01. FFTの基本 - サイン波の生成と観察\n\nこのノートブックでは、FFT（高速フーリエ変換）を学ぶための基本となるサイン波の生成と可視化を学びます。\n\n**FFTとは？**\n- FFT（Fast Fourier Transform）は信号を周波数成分に分解する数学的手法です\n- 時間領域の信号を周波数領域に変換します\n- 音声や画像処理で広く使われています",
   "outputs": []
  },
  {
   "cell_type": "code",
   "metadata": {},
   "outputs": [],
   "source": "# 必要なライブラリのインポート\nimport numpy as np  # 数値計算\nimport matplotlib.pyplot as plt  # グラフ作成\nfrom scipy.fft import fft, fftfreq  # FFT計算\n\n# グラフ設定\nplt.rcParams['figure.figsize'] = [10, 6]\nplt.rcParams['font.size'] = 12"
  },
  {
   "cell_type": "markdown",
   "metadata": {},
   "source": "## 1. 基本的なサイン波の生成",
   "outputs": []
  },
  {
   "cell_type": "code",
   "metadata": {},
   "outputs": [],
   "source": "# パラメータ設定\nsample_rate = 1000  # サンプリング周波数 (Hz)\nduration = 1.0      # 信号の長さ (秒)\nfrequency = 5       # サイン波の周波数 (Hz)\n\n# 時間軸の作成\nt = np.linspace(0, duration, int(sample_rate * duration), False)\n\n# サイン波の生成\nsignal = np.sin(2 * np.pi * frequency * t)\n\n# 時間領域での可視化\nplt.figure(figsize=(12, 4))\nplt.plot(t, signal)\nplt.title(f'{frequency}Hz サイン波 (時間領域)')\nplt.xlabel('時間 (秒)')\nplt.ylabel('振幅')\nplt.grid(True)\nplt.show()"
  },
  {
   "cell_type": "markdown",
   "metadata": {},
   "source": "## 2. FFTを使って周波数成分を見てみよう\n\nFFTは時間領域の信号を周波数領域に変換します。上で作った5Hzのサイン波をFFTして、周波数成分を確認してみましょう。",
   "outputs": []
  },
  {
   "cell_type": "code",
   "metadata": {},
   "outputs": [],
   "source": "# FFTの実行\nfft_result = fft(signal)\nfrequencies = fftfreq(len(signal), 1/sample_rate)\n\n# FFTの結果を振幅に変換\namplitude = np.abs(fft_result)\n\n# 正の周波数成分のみを表示（FFTは対称性があるため）\npositive_freq_idx = frequencies >= 0\nfreq_positive = frequencies[positive_freq_idx]\namplitude_positive = amplitude[positive_freq_idx]\n\n# 周波数領域での可視化\nplt.figure(figsize=(12, 4))\nplt.plot(freq_positive, amplitude_positive)\nplt.title('FFT結果 (周波数領域)')\nplt.xlabel('周波数 (Hz)')\nplt.ylabel('振幅')\nplt.xlim(0, 20)  # 0-20Hzの範囲を表示\nplt.grid(True)\nplt.show()\n\nprint(f\"最大振幅の周波数: {freq_positive[np.argmax(amplitude_positive)]} Hz\")"
  },
  {
   "cell_type": "markdown",
   "metadata": {},
   "source": "## 3. 時間領域 vs 周波数領域の比較\n\n同じ信号を時間領域と周波数領域で同時に見てみましょう。",
   "outputs": []
  },
  {
   "cell_type": "code",
   "metadata": {},
   "outputs": [],
   "source": "# 時間領域と周波数領域を並べて表示\nfig, (ax1, ax2) = plt.subplots(2, 1, figsize=(12, 8))\n\n# 時間領域\nax1.plot(t, signal)\nax1.set_title('時間領域: 5Hz サイン波')\nax1.set_xlabel('時間 (秒)')\nax1.set_ylabel('振幅')\nax1.grid(True)\n\n# 周波数領域\nax2.plot(freq_positive, amplitude_positive)\nax2.set_title('周波数領域: FFT結果')\nax2.set_xlabel('周波数 (Hz)')\nax2.set_ylabel('振幅')\nax2.set_xlim(0, 20)\nax2.grid(True)\n\nplt.tight_layout()\nplt.show()"
  },
  {
   "cell_type": "markdown",
   "metadata": {},
   "source": "## 練習問題\n\n1. 周波数を10Hzに変更して、FFT結果がどう変わるか確認してみましょう\n2. 振幅を0.5に変更して、FFT結果への影響を見てみましょう\n\n**重要なポイント:**\n- 時間領域では信号の時間変化がわかります\n- 周波数領域では信号に含まれる周波数成分がわかります\n- FFTは時間領域と周波数領域を結ぶ重要な変換です",
   "outputs": []
  }
 ],
 "metadata": {
  "kernelspec": {
   "display_name": "3.10.15",
   "language": "python",
   "name": "python3"
  },
  "language_info": {
   "codemirror_mode": {
    "name": "ipython",
    "version": 3
   },
   "file_extension": ".py",
   "mimetype": "text/x-python",
   "name": "python",
   "nbconvert_exporter": "python",
   "pygments_lexer": "ipython3",
   "version": "3.10.15"
  }
 },
 "nbformat": 4,
 "nbformat_minor": 4
}