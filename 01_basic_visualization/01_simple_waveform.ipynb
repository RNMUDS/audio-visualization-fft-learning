{
 "cells": [
  {
   "cell_type": "markdown",
   "metadata": {},
   "source": [
    "# 01. シンプルな波形可視化\n",
    "\n",
    "このノートブックでは、音声ファイルの波形を可視化する基本的な方法を学びます。"
   ]
  },
  {
   "cell_type": "code",
   "execution_count": null,
   "metadata": {},
   "outputs": [],
   "source": [
    "import numpy as np\n",
    "import matplotlib.pyplot as plt\n",
    "from pydub import AudioSegment\n",
    "import warnings\n",
    "warnings.filterwarnings('ignore')\n",
    "\n",
    "# 日本語フォント設定\n",
    "plt.rcParams['font.family'] = 'DejaVu Sans'"
   ]
  },
  {
   "cell_type": "markdown",
   "metadata": {},
   "source": [
    "## 1. シンプルなサイン波の生成と可視化"
   ]
  },
  {
   "cell_type": "code",
   "execution_count": null,
   "metadata": {},
   "outputs": [],
   "source": [
    "# サイン波の生成\n",
    "duration = 1.0  # 秒\n",
    "sample_rate = 44100  # Hz\n",
    "frequency = 440  # Hz (ラ音)\n",
    "\n",
    "# 時間軸の作成\n",
    "t = np.linspace(0, duration, int(sample_rate * duration), False)\n",
    "\n",
    "# サイン波の生成\n",
    "wave = np.sin(2 * np.pi * frequency * t)\n",
    "\n",
    "# 波形の可視化\n",
    "plt.figure(figsize=(12, 4))\n",
    "plt.plot(t[:1000], wave[:1000])  # 最初の1000サンプルを表示\n",
    "plt.title('440Hz サイン波の波形')\n",
    "plt.xlabel('時間 (秒)')\n",
    "plt.ylabel('振幅')\n",
    "plt.grid(True)\n",
    "plt.show()"
   ]
  },
  {
   "cell_type": "markdown",
   "metadata": {},
   "source": [
    "## 2. 音声ファイルの読み込みと波形表示"
   ]
  },
  {
   "cell_type": "code",
   "execution_count": null,
   "metadata": {},
   "outputs": [],
   "source": [
    "# サンプル音声の生成（実際の使用では音声ファイルを読み込み）\n",
    "# 複数の周波数を含む複合波\n",
    "freq1, freq2, freq3 = 220, 440, 880  # Hz\n",
    "duration = 2.0\n",
    "sample_rate = 44100\n",
    "\n",
    "t = np.linspace(0, duration, int(sample_rate * duration), False)\n",
    "composite_wave = (np.sin(2 * np.pi * freq1 * t) + \n",
    "                 0.5 * np.sin(2 * np.pi * freq2 * t) + \n",
    "                 0.3 * np.sin(2 * np.pi * freq3 * t))\n",
    "\n",
    "# 波形の可視化\n",
    "plt.figure(figsize=(15, 8))\n",
    "\n",
    "# 全体の波形\n",
    "plt.subplot(2, 1, 1)\n",
    "plt.plot(t, composite_wave)\n",
    "plt.title('複合波の全体波形')\n",
    "plt.xlabel('時間 (秒)')\n",
    "plt.ylabel('振幅')\n",
    "plt.grid(True)\n",
    "\n",
    "# 拡大表示\n",
    "plt.subplot(2, 1, 2)\n",
    "zoom_samples = 2000\n",
    "plt.plot(t[:zoom_samples], composite_wave[:zoom_samples])\n",
    "plt.title('波形の拡大表示（最初の0.05秒）')\n",
    "plt.xlabel('時間 (秒)')\n",
    "plt.ylabel('振幅')\n",
    "plt.grid(True)\n",
    "\n",
    "plt.tight_layout()\n",
    "plt.show()"
   ]
  },
  {
   "cell_type": "markdown",
   "metadata": {},
   "source": [
    "## 3. ステレオ音声の可視化"
   ]
  },
  {
   "cell_type": "code",
   "execution_count": null,
   "metadata": {},
   "outputs": [],
   "source": [
    "# ステレオ音声の生成（左右チャンネルで異なる周波数）\n",
    "left_channel = np.sin(2 * np.pi * 300 * t)   # 左チャンネル: 300Hz\n",
    "right_channel = np.sin(2 * np.pi * 500 * t)  # 右チャンネル: 500Hz\n",
    "\n",
    "plt.figure(figsize=(15, 10))\n",
    "\n",
    "# 左チャンネル\n",
    "plt.subplot(3, 1, 1)\n",
    "plt.plot(t[:4000], left_channel[:4000], 'b-', label='左チャンネル (300Hz)')\n",
    "plt.title('左チャンネル')\n",
    "plt.xlabel('時間 (秒)')\n",
    "plt.ylabel('振幅')\n",
    "plt.legend()\n",
    "plt.grid(True)\n",
    "\n",
    "# 右チャンネル\n",
    "plt.subplot(3, 1, 2)\n",
    "plt.plot(t[:4000], right_channel[:4000], 'r-', label='右チャンネル (500Hz)')\n",
    "plt.title('右チャンネル')\n",
    "plt.xlabel('時間 (秒)')\n",
    "plt.ylabel('振幅')\n",
    "plt.legend()\n",
    "plt.grid(True)\n",
    "\n",
    "# 両チャンネルの重ね合わせ\n",
    "plt.subplot(3, 1, 3)\n",
    "plt.plot(t[:4000], left_channel[:4000], 'b-', alpha=0.7, label='左 (300Hz)')\n",
    "plt.plot(t[:4000], right_channel[:4000], 'r-', alpha=0.7, label='右 (500Hz)')\n",
    "plt.title('両チャンネルの比較')\n",
    "plt.xlabel('時間 (秒)')\n",
    "plt.ylabel('振幅')\n",
    "plt.legend()\n",
    "plt.grid(True)\n",
    "\n",
    "plt.tight_layout()\n",
    "plt.show()"
   ]
  },
  {
   "cell_type": "markdown",
   "metadata": {},
   "source": [
    "## 練習問題\n",
    "\n",
    "1. 周波数が880Hz（高いラ音）のサイン波を生成して可視化してみましょう\n",
    "2. 440Hzと880Hzの音を同時に鳴らした場合の波形を作成してみましょう\n",
    "3. 振幅が時間とともに減衰する波形を作成してみましょう（エンベロープ効果）"
   ]
  }
 ],
 "metadata": {
  "kernelspec": {
   "display_name": "Python 3",
   "language": "python",
   "name": "python3"
  },
  "language_info": {
   "codemirror_mode": {
    "name": "ipython",
    "version": 3
   },
   "file_extension": ".py",
   "name": "python",
   "nbconvert_exporter": "python",
   "pygments_lexer": "ipython3",
   "version": "3.8.0"
  }
 },
 "nbformat": 4,
 "nbformat_minor": 4
}